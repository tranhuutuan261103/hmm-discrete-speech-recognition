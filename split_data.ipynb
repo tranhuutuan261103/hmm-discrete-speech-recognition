{
 "cells": [
  {
   "cell_type": "code",
   "execution_count": 6,
   "metadata": {},
   "outputs": [],
   "source": [
    "import os\n",
    "import numpy as np\n",
    "import matplotlib.pyplot as plt\n",
    "import shutil\n",
    "from utils import get_all_words, get_id_by_word\n",
    "from tqdm import tqdm"
   ]
  },
  {
   "cell_type": "code",
   "execution_count": 7,
   "metadata": {},
   "outputs": [],
   "source": [
    "def split_data(word_search: str, word: str):\n",
    "    audio_folder = 'datasets'\n",
    "    output_audio_folder = 'datasets_split'\n",
    "    if not os.path.exists(output_audio_folder):\n",
    "        os.makedirs(output_audio_folder)\n",
    "\n",
    "    # Get all subfolders inside 'datasets'\n",
    "    sub_folders = [os.path.join(audio_folder, sub_folder) for sub_folder in os.listdir(audio_folder)]\n",
    "\n",
    "    # Iterate through all subfolders and collect '.wav' files\n",
    "    wav_files = []\n",
    "    for sub_folder in sub_folders:\n",
    "        if os.path.isdir(sub_folder):  # Check if it's a folder\n",
    "            wav_files.extend(\n",
    "                [os.path.join(sub_folder, file) for file in os.listdir(sub_folder) if file.endswith('.wav')]\n",
    "            )\n",
    "\n",
    "    # Filter files based on the word (if desired)\n",
    "    word_files = [file for file in wav_files if word_search in os.path.basename(file)]\n",
    "\n",
    "    print(\"Length of word_files: \", len(word_files))\n",
    "    print(word_files)\n",
    "\n",
    "    for file in tqdm(word_files, \"Đang copy đến đường dẫn: \"):\n",
    "        # Create the destination folder\n",
    "        destination_folder = os.path.join(output_audio_folder, word)\n",
    "        if not os.path.exists(destination_folder):\n",
    "            os.makedirs(destination_folder)\n",
    "\n",
    "        # Copy the file to the destination folder\n",
    "        destination_file = os.path.join(destination_folder, os.path.basename(file))\n",
    "        try:\n",
    "            shutil.copy(file, destination_file)\n",
    "        except Exception as e:\n",
    "            # print(f\"Error copying {file} to {destination_file}: {e}\")\n",
    "            pass"
   ]
  },
  {
   "cell_type": "code",
   "execution_count": 8,
   "metadata": {},
   "outputs": [
    {
     "name": "stdout",
     "output_type": "stream",
     "text": [
      "['chu', 've', 'vao', 'tai', 'dau', 'cuoi', 'ke', 'truoc', 'dung', 'ngung', 'doc', 'tiep', 'lui', 'toi', 'tang', 'to', 'giam', 'nho', 'lai', 'lap', 'nhanh', 'cham', 'luu', 'xoa', 'huy', 'chay', 'xong', 'dung', 'sai', 'giup', 'gio', 'ngay', 'tuoi', 'co', 'khong', 'muc', 'bai', 'mot', 'hai', 'ba', 'bon', 'nam', 'sau', 'bay', 'tam', 'chin', 'a', 'e', 'i', 'o', 'u', 'thodia']\n"
     ]
    }
   ],
   "source": [
    "print(get_all_words())"
   ]
  },
  {
   "cell_type": "code",
   "execution_count": 9,
   "metadata": {},
   "outputs": [
    {
     "name": "stdout",
     "output_type": "stream",
     "text": [
      "Length of word_files:  10\n",
      "['datasets\\\\A\\\\A01.wav', 'datasets\\\\B\\\\B01.wav', 'datasets\\\\C\\\\C01.wav', 'datasets\\\\D\\\\D01.wav', 'datasets\\\\E\\\\E01.wav', 'datasets\\\\F\\\\F01.wav', 'datasets\\\\H\\\\H01.wav', 'datasets\\\\L\\\\L01.wav', 'datasets\\\\P\\\\P01.wav', 'datasets\\\\T\\\\T01.wav']\n"
     ]
    },
    {
     "name": "stderr",
     "output_type": "stream",
     "text": [
      "Đang copy đến đường dẫn:   0%|          | 0/10 [00:00<?, ?it/s]"
     ]
    },
    {
     "name": "stderr",
     "output_type": "stream",
     "text": [
      "Đang copy đến đường dẫn: 100%|██████████| 10/10 [00:00<00:00, 93.06it/s]\n"
     ]
    },
    {
     "name": "stdout",
     "output_type": "stream",
     "text": [
      "Length of word_files:  10\n",
      "['datasets\\\\A\\\\A02.wav', 'datasets\\\\B\\\\B02.wav', 'datasets\\\\C\\\\C02.wav', 'datasets\\\\D\\\\D02.wav', 'datasets\\\\E\\\\E02.wav', 'datasets\\\\F\\\\F02.wav', 'datasets\\\\H\\\\H02.wav', 'datasets\\\\L\\\\L02.wav', 'datasets\\\\P\\\\P02.wav', 'datasets\\\\T\\\\T02.wav']\n"
     ]
    },
    {
     "name": "stderr",
     "output_type": "stream",
     "text": [
      "Đang copy đến đường dẫn: 100%|██████████| 10/10 [00:00<00:00, 108.78it/s]\n"
     ]
    },
    {
     "name": "stdout",
     "output_type": "stream",
     "text": [
      "Length of word_files:  10\n",
      "['datasets\\\\A\\\\A03.wav', 'datasets\\\\B\\\\B03.wav', 'datasets\\\\C\\\\C03.wav', 'datasets\\\\D\\\\D03.wav', 'datasets\\\\E\\\\E03.wav', 'datasets\\\\F\\\\F03.wav', 'datasets\\\\H\\\\H03.wav', 'datasets\\\\L\\\\L03.wav', 'datasets\\\\P\\\\P03.wav', 'datasets\\\\T\\\\T03.wav']\n"
     ]
    },
    {
     "name": "stderr",
     "output_type": "stream",
     "text": [
      "Đang copy đến đường dẫn: 100%|██████████| 10/10 [00:00<00:00, 113.70it/s]\n"
     ]
    },
    {
     "name": "stdout",
     "output_type": "stream",
     "text": [
      "Length of word_files:  10\n",
      "['datasets\\\\A\\\\A04.wav', 'datasets\\\\B\\\\B04.wav', 'datasets\\\\C\\\\C04.wav', 'datasets\\\\D\\\\D04.wav', 'datasets\\\\E\\\\E04.wav', 'datasets\\\\F\\\\F04.wav', 'datasets\\\\H\\\\H04.wav', 'datasets\\\\L\\\\L04.wav', 'datasets\\\\P\\\\P04.wav', 'datasets\\\\T\\\\T04.wav']\n"
     ]
    },
    {
     "name": "stderr",
     "output_type": "stream",
     "text": [
      "Đang copy đến đường dẫn: 100%|██████████| 10/10 [00:00<00:00, 103.41it/s]\n"
     ]
    },
    {
     "name": "stdout",
     "output_type": "stream",
     "text": [
      "Length of word_files:  10\n",
      "['datasets\\\\A\\\\A05.wav', 'datasets\\\\B\\\\B05.wav', 'datasets\\\\C\\\\C05.wav', 'datasets\\\\D\\\\D05.wav', 'datasets\\\\E\\\\E05.wav', 'datasets\\\\F\\\\F05.wav', 'datasets\\\\H\\\\H05.wav', 'datasets\\\\L\\\\L05.wav', 'datasets\\\\P\\\\P05.wav', 'datasets\\\\T\\\\T05.wav']\n"
     ]
    },
    {
     "name": "stderr",
     "output_type": "stream",
     "text": [
      "Đang copy đến đường dẫn: 100%|██████████| 10/10 [00:00<00:00, 109.52it/s]\n"
     ]
    },
    {
     "name": "stdout",
     "output_type": "stream",
     "text": [
      "Length of word_files:  10\n",
      "['datasets\\\\A\\\\A06.wav', 'datasets\\\\B\\\\B06.wav', 'datasets\\\\C\\\\C06.wav', 'datasets\\\\D\\\\D06.wav', 'datasets\\\\E\\\\E06.wav', 'datasets\\\\F\\\\F06.wav', 'datasets\\\\H\\\\H06.wav', 'datasets\\\\L\\\\L06.wav', 'datasets\\\\P\\\\P06.wav', 'datasets\\\\T\\\\T06.wav']\n"
     ]
    },
    {
     "name": "stderr",
     "output_type": "stream",
     "text": [
      "Đang copy đến đường dẫn: 100%|██████████| 10/10 [00:00<00:00, 80.16it/s]\n"
     ]
    },
    {
     "name": "stdout",
     "output_type": "stream",
     "text": [
      "Length of word_files:  10\n",
      "['datasets\\\\A\\\\A07.wav', 'datasets\\\\B\\\\B07.wav', 'datasets\\\\C\\\\C07.wav', 'datasets\\\\D\\\\D07.wav', 'datasets\\\\E\\\\E07.wav', 'datasets\\\\F\\\\F07.wav', 'datasets\\\\H\\\\H07.wav', 'datasets\\\\L\\\\L07.wav', 'datasets\\\\P\\\\P07.wav', 'datasets\\\\T\\\\T07.wav']\n"
     ]
    },
    {
     "name": "stderr",
     "output_type": "stream",
     "text": [
      "Đang copy đến đường dẫn: 100%|██████████| 10/10 [00:00<00:00, 103.94it/s]\n"
     ]
    },
    {
     "name": "stdout",
     "output_type": "stream",
     "text": [
      "Length of word_files:  10\n",
      "['datasets\\\\A\\\\A08.wav', 'datasets\\\\B\\\\B08.wav', 'datasets\\\\C\\\\C08.wav', 'datasets\\\\D\\\\D08.wav', 'datasets\\\\E\\\\E08.wav', 'datasets\\\\F\\\\F08.wav', 'datasets\\\\H\\\\H08.wav', 'datasets\\\\L\\\\L08.wav', 'datasets\\\\P\\\\P08.wav', 'datasets\\\\T\\\\T08.wav']\n"
     ]
    },
    {
     "name": "stderr",
     "output_type": "stream",
     "text": [
      "Đang copy đến đường dẫn: 100%|██████████| 10/10 [00:00<00:00, 64.24it/s]\n"
     ]
    },
    {
     "name": "stdout",
     "output_type": "stream",
     "text": [
      "Length of word_files:  10\n",
      "['datasets\\\\A\\\\A09.wav', 'datasets\\\\B\\\\B09.wav', 'datasets\\\\C\\\\C09.wav', 'datasets\\\\D\\\\D09.wav', 'datasets\\\\E\\\\E09.wav', 'datasets\\\\F\\\\F09.wav', 'datasets\\\\H\\\\H09.wav', 'datasets\\\\L\\\\L09.wav', 'datasets\\\\P\\\\P09.wav', 'datasets\\\\T\\\\T09.wav']\n"
     ]
    },
    {
     "name": "stderr",
     "output_type": "stream",
     "text": [
      "Đang copy đến đường dẫn: 100%|██████████| 10/10 [00:00<00:00, 102.15it/s]\n"
     ]
    },
    {
     "name": "stdout",
     "output_type": "stream",
     "text": [
      "Length of word_files:  10\n",
      "['datasets\\\\A\\\\A10.wav', 'datasets\\\\B\\\\B10.wav', 'datasets\\\\C\\\\C10.wav', 'datasets\\\\D\\\\D10.wav', 'datasets\\\\E\\\\E10.wav', 'datasets\\\\F\\\\F10.wav', 'datasets\\\\H\\\\H10.wav', 'datasets\\\\L\\\\L10.wav', 'datasets\\\\P\\\\P10.wav', 'datasets\\\\T\\\\T10.wav']\n"
     ]
    },
    {
     "name": "stderr",
     "output_type": "stream",
     "text": [
      "Đang copy đến đường dẫn: 100%|██████████| 10/10 [00:00<00:00, 106.36it/s]\n"
     ]
    },
    {
     "name": "stdout",
     "output_type": "stream",
     "text": [
      "Length of word_files:  10\n",
      "['datasets\\\\A\\\\A11.wav', 'datasets\\\\B\\\\B11.wav', 'datasets\\\\C\\\\C11.wav', 'datasets\\\\D\\\\D11.wav', 'datasets\\\\E\\\\E11.wav', 'datasets\\\\F\\\\F11.wav', 'datasets\\\\H\\\\H11.wav', 'datasets\\\\L\\\\L11.wav', 'datasets\\\\P\\\\P11.wav', 'datasets\\\\T\\\\T11.wav']\n"
     ]
    },
    {
     "name": "stderr",
     "output_type": "stream",
     "text": [
      "Đang copy đến đường dẫn: 100%|██████████| 10/10 [00:00<00:00, 113.07it/s]\n"
     ]
    },
    {
     "name": "stdout",
     "output_type": "stream",
     "text": [
      "Length of word_files:  10\n",
      "['datasets\\\\A\\\\A12.wav', 'datasets\\\\B\\\\B12.wav', 'datasets\\\\C\\\\C12.wav', 'datasets\\\\D\\\\D12.wav', 'datasets\\\\E\\\\E12.wav', 'datasets\\\\F\\\\F12.wav', 'datasets\\\\H\\\\H12.wav', 'datasets\\\\L\\\\L12.wav', 'datasets\\\\P\\\\P12.wav', 'datasets\\\\T\\\\T12.wav']\n"
     ]
    },
    {
     "name": "stderr",
     "output_type": "stream",
     "text": [
      "Đang copy đến đường dẫn: 100%|██████████| 10/10 [00:00<00:00, 112.48it/s]\n"
     ]
    },
    {
     "name": "stdout",
     "output_type": "stream",
     "text": [
      "Length of word_files:  10\n",
      "['datasets\\\\A\\\\A13.wav', 'datasets\\\\B\\\\B13.wav', 'datasets\\\\C\\\\C13.wav', 'datasets\\\\D\\\\D13.wav', 'datasets\\\\E\\\\E13.wav', 'datasets\\\\F\\\\F13.wav', 'datasets\\\\H\\\\H13.wav', 'datasets\\\\L\\\\L13.wav', 'datasets\\\\P\\\\P13.wav', 'datasets\\\\T\\\\T13.wav']\n"
     ]
    },
    {
     "name": "stderr",
     "output_type": "stream",
     "text": [
      "Đang copy đến đường dẫn: 100%|██████████| 10/10 [00:00<00:00, 104.41it/s]\n"
     ]
    },
    {
     "name": "stdout",
     "output_type": "stream",
     "text": [
      "Length of word_files:  10\n",
      "['datasets\\\\A\\\\A14.wav', 'datasets\\\\B\\\\B14.wav', 'datasets\\\\C\\\\C14.wav', 'datasets\\\\D\\\\D14.wav', 'datasets\\\\E\\\\E14.wav', 'datasets\\\\F\\\\F14.wav', 'datasets\\\\H\\\\H14.wav', 'datasets\\\\L\\\\L14.wav', 'datasets\\\\P\\\\P14.wav', 'datasets\\\\T\\\\T14.wav']\n"
     ]
    },
    {
     "name": "stderr",
     "output_type": "stream",
     "text": [
      "Đang copy đến đường dẫn: 100%|██████████| 10/10 [00:00<00:00, 123.64it/s]\n"
     ]
    },
    {
     "name": "stdout",
     "output_type": "stream",
     "text": [
      "Length of word_files:  10\n",
      "['datasets\\\\A\\\\A15.wav', 'datasets\\\\B\\\\B15.wav', 'datasets\\\\C\\\\C15.wav', 'datasets\\\\D\\\\D15.wav', 'datasets\\\\E\\\\E15.wav', 'datasets\\\\F\\\\F15.wav', 'datasets\\\\H\\\\H15.wav', 'datasets\\\\L\\\\L15.wav', 'datasets\\\\P\\\\P15.wav', 'datasets\\\\T\\\\T15.wav']\n"
     ]
    },
    {
     "name": "stderr",
     "output_type": "stream",
     "text": [
      "Đang copy đến đường dẫn: 100%|██████████| 10/10 [00:00<00:00, 123.10it/s]\n"
     ]
    },
    {
     "name": "stdout",
     "output_type": "stream",
     "text": [
      "Length of word_files:  10\n",
      "['datasets\\\\A\\\\A16.wav', 'datasets\\\\B\\\\B16.wav', 'datasets\\\\C\\\\C16.wav', 'datasets\\\\D\\\\D16.wav', 'datasets\\\\E\\\\E16.wav', 'datasets\\\\F\\\\F16.wav', 'datasets\\\\H\\\\H16.wav', 'datasets\\\\L\\\\L16.wav', 'datasets\\\\P\\\\P16.wav', 'datasets\\\\T\\\\T16.wav']\n"
     ]
    },
    {
     "name": "stderr",
     "output_type": "stream",
     "text": [
      "Đang copy đến đường dẫn: 100%|██████████| 10/10 [00:00<00:00, 126.03it/s]\n"
     ]
    },
    {
     "name": "stdout",
     "output_type": "stream",
     "text": [
      "Length of word_files:  10\n",
      "['datasets\\\\A\\\\A17.wav', 'datasets\\\\B\\\\B17.wav', 'datasets\\\\C\\\\C17.wav', 'datasets\\\\D\\\\D17.wav', 'datasets\\\\E\\\\E17.wav', 'datasets\\\\F\\\\F17.wav', 'datasets\\\\H\\\\H17.wav', 'datasets\\\\L\\\\L17.wav', 'datasets\\\\P\\\\P17.wav', 'datasets\\\\T\\\\T17.wav']\n"
     ]
    },
    {
     "name": "stderr",
     "output_type": "stream",
     "text": [
      "Đang copy đến đường dẫn: 100%|██████████| 10/10 [00:00<00:00, 95.67it/s]\n"
     ]
    },
    {
     "name": "stdout",
     "output_type": "stream",
     "text": [
      "Length of word_files:  10\n",
      "['datasets\\\\A\\\\A18.wav', 'datasets\\\\B\\\\B18.wav', 'datasets\\\\C\\\\C18.wav', 'datasets\\\\D\\\\D18.wav', 'datasets\\\\E\\\\E18.wav', 'datasets\\\\F\\\\F18.wav', 'datasets\\\\H\\\\H18.wav', 'datasets\\\\L\\\\L18.wav', 'datasets\\\\P\\\\P18.wav', 'datasets\\\\T\\\\T18.wav']\n"
     ]
    },
    {
     "name": "stderr",
     "output_type": "stream",
     "text": [
      "Đang copy đến đường dẫn: 100%|██████████| 10/10 [00:00<00:00, 113.73it/s]\n"
     ]
    },
    {
     "name": "stdout",
     "output_type": "stream",
     "text": [
      "Length of word_files:  10\n",
      "['datasets\\\\A\\\\A19.wav', 'datasets\\\\B\\\\B19.wav', 'datasets\\\\C\\\\C19.wav', 'datasets\\\\D\\\\D19.wav', 'datasets\\\\E\\\\E19.wav', 'datasets\\\\F\\\\F19.wav', 'datasets\\\\H\\\\H19.wav', 'datasets\\\\L\\\\L19.wav', 'datasets\\\\P\\\\P19.wav', 'datasets\\\\T\\\\T19.wav']\n"
     ]
    },
    {
     "name": "stderr",
     "output_type": "stream",
     "text": [
      "Đang copy đến đường dẫn: 100%|██████████| 10/10 [00:00<00:00, 59.02it/s]\n"
     ]
    },
    {
     "name": "stdout",
     "output_type": "stream",
     "text": [
      "Length of word_files:  10\n",
      "['datasets\\\\A\\\\A20.wav', 'datasets\\\\B\\\\B20.wav', 'datasets\\\\C\\\\C20.wav', 'datasets\\\\D\\\\D20.wav', 'datasets\\\\E\\\\E20.wav', 'datasets\\\\F\\\\F20.wav', 'datasets\\\\H\\\\H20.wav', 'datasets\\\\L\\\\L20.wav', 'datasets\\\\P\\\\P20.wav', 'datasets\\\\T\\\\T20.wav']\n"
     ]
    },
    {
     "name": "stderr",
     "output_type": "stream",
     "text": [
      "Đang copy đến đường dẫn: 100%|██████████| 10/10 [00:00<00:00, 96.03it/s]\n"
     ]
    },
    {
     "name": "stdout",
     "output_type": "stream",
     "text": [
      "Length of word_files:  10\n",
      "['datasets\\\\A\\\\A21.wav', 'datasets\\\\B\\\\B21.wav', 'datasets\\\\C\\\\C21.wav', 'datasets\\\\D\\\\D21.wav', 'datasets\\\\E\\\\E21.wav', 'datasets\\\\F\\\\F21.wav', 'datasets\\\\H\\\\H21.wav', 'datasets\\\\L\\\\L21.wav', 'datasets\\\\P\\\\P21.wav', 'datasets\\\\T\\\\T21.wav']\n"
     ]
    },
    {
     "name": "stderr",
     "output_type": "stream",
     "text": [
      "Đang copy đến đường dẫn: 100%|██████████| 10/10 [00:00<00:00, 116.83it/s]\n"
     ]
    },
    {
     "name": "stdout",
     "output_type": "stream",
     "text": [
      "Length of word_files:  10\n",
      "['datasets\\\\A\\\\A22.wav', 'datasets\\\\B\\\\B22.wav', 'datasets\\\\C\\\\C22.wav', 'datasets\\\\D\\\\D22.wav', 'datasets\\\\E\\\\E22.wav', 'datasets\\\\F\\\\F22.wav', 'datasets\\\\H\\\\H22.wav', 'datasets\\\\L\\\\L22.wav', 'datasets\\\\P\\\\P22.wav', 'datasets\\\\T\\\\T22.wav']\n"
     ]
    },
    {
     "name": "stderr",
     "output_type": "stream",
     "text": [
      "Đang copy đến đường dẫn: 100%|██████████| 10/10 [00:00<00:00, 126.34it/s]"
     ]
    },
    {
     "name": "stdout",
     "output_type": "stream",
     "text": [
      "Length of word_files: "
     ]
    },
    {
     "name": "stderr",
     "output_type": "stream",
     "text": [
      "\n"
     ]
    },
    {
     "name": "stdout",
     "output_type": "stream",
     "text": [
      " 10\n",
      "['datasets\\\\A\\\\A23.wav', 'datasets\\\\B\\\\B23.wav', 'datasets\\\\C\\\\C23.wav', 'datasets\\\\D\\\\D23.wav', 'datasets\\\\E\\\\E23.wav', 'datasets\\\\F\\\\F23.wav', 'datasets\\\\H\\\\H23.wav', 'datasets\\\\L\\\\L23.wav', 'datasets\\\\P\\\\P23.wav', 'datasets\\\\T\\\\T23.wav']\n"
     ]
    },
    {
     "name": "stderr",
     "output_type": "stream",
     "text": [
      "Đang copy đến đường dẫn: 100%|██████████| 10/10 [00:00<00:00, 82.33it/s]\n"
     ]
    },
    {
     "name": "stdout",
     "output_type": "stream",
     "text": [
      "Length of word_files:  10\n",
      "['datasets\\\\A\\\\A24.wav', 'datasets\\\\B\\\\B24.wav', 'datasets\\\\C\\\\C24.wav', 'datasets\\\\D\\\\D24.wav', 'datasets\\\\E\\\\E24.wav', 'datasets\\\\F\\\\F24.wav', 'datasets\\\\H\\\\H24.wav', 'datasets\\\\L\\\\L24.wav', 'datasets\\\\P\\\\P24.wav', 'datasets\\\\T\\\\T24.wav']\n"
     ]
    },
    {
     "name": "stderr",
     "output_type": "stream",
     "text": [
      "Đang copy đến đường dẫn: 100%|██████████| 10/10 [00:00<00:00, 121.34it/s]\n"
     ]
    },
    {
     "name": "stdout",
     "output_type": "stream",
     "text": [
      "Length of word_files:  10\n",
      "['datasets\\\\A\\\\A25.wav', 'datasets\\\\B\\\\B25.wav', 'datasets\\\\C\\\\C25.wav', 'datasets\\\\D\\\\D25.wav', 'datasets\\\\E\\\\E25.wav', 'datasets\\\\F\\\\F25.wav', 'datasets\\\\H\\\\H25.wav', 'datasets\\\\L\\\\L25.wav', 'datasets\\\\P\\\\P25.wav', 'datasets\\\\T\\\\T25.wav']\n"
     ]
    },
    {
     "name": "stderr",
     "output_type": "stream",
     "text": [
      "Đang copy đến đường dẫn: 100%|██████████| 10/10 [00:00<00:00, 98.21it/s]\n"
     ]
    },
    {
     "name": "stdout",
     "output_type": "stream",
     "text": [
      "Length of word_files:  10\n",
      "['datasets\\\\A\\\\A26.wav', 'datasets\\\\B\\\\B26.wav', 'datasets\\\\C\\\\C26.wav', 'datasets\\\\D\\\\D26.wav', 'datasets\\\\E\\\\E26.wav', 'datasets\\\\F\\\\F26.wav', 'datasets\\\\H\\\\H26.wav', 'datasets\\\\L\\\\L26.wav', 'datasets\\\\P\\\\P26.wav', 'datasets\\\\T\\\\T26.wav']\n"
     ]
    },
    {
     "name": "stderr",
     "output_type": "stream",
     "text": [
      "Đang copy đến đường dẫn: 100%|██████████| 10/10 [00:00<00:00, 125.53it/s]\n"
     ]
    },
    {
     "name": "stdout",
     "output_type": "stream",
     "text": [
      "Length of word_files:  10\n",
      "['datasets\\\\A\\\\A27.wav', 'datasets\\\\B\\\\B27.wav', 'datasets\\\\C\\\\C27.wav', 'datasets\\\\D\\\\D27.wav', 'datasets\\\\E\\\\E27.wav', 'datasets\\\\F\\\\F27.wav', 'datasets\\\\H\\\\H27.wav', 'datasets\\\\L\\\\L27.wav', 'datasets\\\\P\\\\P27.wav', 'datasets\\\\T\\\\T27.wav']\n"
     ]
    },
    {
     "name": "stderr",
     "output_type": "stream",
     "text": [
      "Đang copy đến đường dẫn: 100%|██████████| 10/10 [00:00<00:00, 123.43it/s]\n"
     ]
    },
    {
     "name": "stdout",
     "output_type": "stream",
     "text": [
      "Length of word_files:  10\n",
      "['datasets\\\\A\\\\A09.wav', 'datasets\\\\B\\\\B09.wav', 'datasets\\\\C\\\\C09.wav', 'datasets\\\\D\\\\D09.wav', 'datasets\\\\E\\\\E09.wav', 'datasets\\\\F\\\\F09.wav', 'datasets\\\\H\\\\H09.wav', 'datasets\\\\L\\\\L09.wav', 'datasets\\\\P\\\\P09.wav', 'datasets\\\\T\\\\T09.wav']\n"
     ]
    },
    {
     "name": "stderr",
     "output_type": "stream",
     "text": [
      "Đang copy đến đường dẫn: 100%|██████████| 10/10 [00:00<00:00, 2344.63it/s]\n"
     ]
    },
    {
     "name": "stdout",
     "output_type": "stream",
     "text": [
      "Length of word_files:  10\n",
      "['datasets\\\\A\\\\A29.wav', 'datasets\\\\B\\\\B29.wav', 'datasets\\\\C\\\\C29.wav', 'datasets\\\\D\\\\D29.wav', 'datasets\\\\E\\\\E29.wav', 'datasets\\\\F\\\\F29.wav', 'datasets\\\\H\\\\H29.wav', 'datasets\\\\L\\\\L29.wav', 'datasets\\\\P\\\\P29.wav', 'datasets\\\\T\\\\T29.wav']\n"
     ]
    },
    {
     "name": "stderr",
     "output_type": "stream",
     "text": [
      "Đang copy đến đường dẫn: 100%|██████████| 10/10 [00:00<00:00, 105.20it/s]\n"
     ]
    },
    {
     "name": "stdout",
     "output_type": "stream",
     "text": [
      "Length of word_files:  10\n",
      "['datasets\\\\A\\\\A30.wav', 'datasets\\\\B\\\\B30.wav', 'datasets\\\\C\\\\C30.wav', 'datasets\\\\D\\\\D30.wav', 'datasets\\\\E\\\\E30.wav', 'datasets\\\\F\\\\F30.wav', 'datasets\\\\H\\\\H30.wav', 'datasets\\\\L\\\\L30.wav', 'datasets\\\\P\\\\P30.wav', 'datasets\\\\T\\\\T30.wav']\n"
     ]
    },
    {
     "name": "stderr",
     "output_type": "stream",
     "text": [
      "Đang copy đến đường dẫn: 100%|██████████| 10/10 [00:00<00:00, 130.62it/s]\n"
     ]
    },
    {
     "name": "stdout",
     "output_type": "stream",
     "text": [
      "Length of word_files:  10\n",
      "['datasets\\\\A\\\\A31.wav', 'datasets\\\\B\\\\B31.wav', 'datasets\\\\C\\\\C31.wav', 'datasets\\\\D\\\\D31.wav', 'datasets\\\\E\\\\E31.wav', 'datasets\\\\F\\\\F31.wav', 'datasets\\\\H\\\\H31.wav', 'datasets\\\\L\\\\L31.wav', 'datasets\\\\P\\\\P31.wav', 'datasets\\\\T\\\\T31.wav']\n"
     ]
    },
    {
     "name": "stderr",
     "output_type": "stream",
     "text": [
      "Đang copy đến đường dẫn: 100%|██████████| 10/10 [00:00<00:00, 95.59it/s]\n"
     ]
    },
    {
     "name": "stdout",
     "output_type": "stream",
     "text": [
      "Length of word_files:  10\n",
      "['datasets\\\\A\\\\A32.wav', 'datasets\\\\B\\\\B32.wav', 'datasets\\\\C\\\\C32.wav', 'datasets\\\\D\\\\D32.wav', 'datasets\\\\E\\\\E32.wav', 'datasets\\\\F\\\\F32.wav', 'datasets\\\\H\\\\H32.wav', 'datasets\\\\L\\\\L32.wav', 'datasets\\\\P\\\\P32.wav', 'datasets\\\\T\\\\T32.wav']\n"
     ]
    },
    {
     "name": "stderr",
     "output_type": "stream",
     "text": [
      "Đang copy đến đường dẫn: 100%|██████████| 10/10 [00:00<00:00, 42.65it/s]\n"
     ]
    },
    {
     "name": "stdout",
     "output_type": "stream",
     "text": [
      "Length of word_files:  10\n",
      "['datasets\\\\A\\\\A33.wav', 'datasets\\\\B\\\\B33.wav', 'datasets\\\\C\\\\C33.wav', 'datasets\\\\D\\\\D33.wav', 'datasets\\\\E\\\\E33.wav', 'datasets\\\\F\\\\F33.wav', 'datasets\\\\H\\\\H33.wav', 'datasets\\\\L\\\\L33.wav', 'datasets\\\\P\\\\P33.wav', 'datasets\\\\T\\\\T33.wav']\n"
     ]
    },
    {
     "name": "stderr",
     "output_type": "stream",
     "text": [
      "Đang copy đến đường dẫn: 100%|██████████| 10/10 [00:00<00:00, 90.29it/s]\n"
     ]
    },
    {
     "name": "stdout",
     "output_type": "stream",
     "text": [
      "Length of word_files:  10\n",
      "['datasets\\\\A\\\\A34.wav', 'datasets\\\\B\\\\B34.wav', 'datasets\\\\C\\\\C34.wav', 'datasets\\\\D\\\\D34.wav', 'datasets\\\\E\\\\E34.wav', 'datasets\\\\F\\\\F34.wav', 'datasets\\\\H\\\\H34.wav', 'datasets\\\\L\\\\L34.wav', 'datasets\\\\P\\\\P34.wav', 'datasets\\\\T\\\\T34.wav']\n"
     ]
    },
    {
     "name": "stderr",
     "output_type": "stream",
     "text": [
      "Đang copy đến đường dẫn: 100%|██████████| 10/10 [00:00<00:00, 105.51it/s]\n"
     ]
    },
    {
     "name": "stdout",
     "output_type": "stream",
     "text": [
      "Length of word_files:  10\n",
      "['datasets\\\\A\\\\A35.wav', 'datasets\\\\B\\\\B35.wav', 'datasets\\\\C\\\\C35.wav', 'datasets\\\\D\\\\D35.wav', 'datasets\\\\E\\\\E35.wav', 'datasets\\\\F\\\\F35.wav', 'datasets\\\\H\\\\H35.wav', 'datasets\\\\L\\\\L35.wav', 'datasets\\\\P\\\\P35.wav', 'datasets\\\\T\\\\T35.wav']\n"
     ]
    },
    {
     "name": "stderr",
     "output_type": "stream",
     "text": [
      "Đang copy đến đường dẫn: 100%|██████████| 10/10 [00:00<00:00, 344.94it/s]\n"
     ]
    },
    {
     "name": "stdout",
     "output_type": "stream",
     "text": [
      "Length of word_files:  10\n",
      "['datasets\\\\A\\\\A36.wav', 'datasets\\\\B\\\\B36.wav', 'datasets\\\\C\\\\C36.wav', 'datasets\\\\D\\\\D36.wav', 'datasets\\\\E\\\\E36.wav', 'datasets\\\\F\\\\F36.wav', 'datasets\\\\H\\\\H36.wav', 'datasets\\\\L\\\\L36.wav', 'datasets\\\\P\\\\P36.wav', 'datasets\\\\T\\\\T36.wav']\n"
     ]
    },
    {
     "name": "stderr",
     "output_type": "stream",
     "text": [
      "Đang copy đến đường dẫn: 100%|██████████| 10/10 [00:00<00:00, 117.57it/s]\n"
     ]
    },
    {
     "name": "stdout",
     "output_type": "stream",
     "text": [
      "Length of word_files:  10\n",
      "['datasets\\\\A\\\\A37.wav', 'datasets\\\\B\\\\B37.wav', 'datasets\\\\C\\\\C37.wav', 'datasets\\\\D\\\\D37.wav', 'datasets\\\\E\\\\E37.wav', 'datasets\\\\F\\\\F37.wav', 'datasets\\\\H\\\\H37.wav', 'datasets\\\\L\\\\L37.wav', 'datasets\\\\P\\\\P37.wav', 'datasets\\\\T\\\\T37.wav']\n"
     ]
    },
    {
     "name": "stderr",
     "output_type": "stream",
     "text": [
      "Đang copy đến đường dẫn: 100%|██████████| 10/10 [00:00<00:00, 127.25it/s]\n"
     ]
    },
    {
     "name": "stdout",
     "output_type": "stream",
     "text": [
      "Length of word_files:  10\n",
      "['datasets\\\\A\\\\A38.wav', 'datasets\\\\B\\\\B38.wav', 'datasets\\\\C\\\\C38.wav', 'datasets\\\\D\\\\D38.wav', 'datasets\\\\E\\\\E38.wav', 'datasets\\\\F\\\\F38.wav', 'datasets\\\\H\\\\H38.wav', 'datasets\\\\L\\\\L38.wav', 'datasets\\\\P\\\\P38.wav', 'datasets\\\\T\\\\T38.wav']\n"
     ]
    },
    {
     "name": "stderr",
     "output_type": "stream",
     "text": [
      "Đang copy đến đường dẫn: 100%|██████████| 10/10 [00:00<00:00, 111.54it/s]\n"
     ]
    },
    {
     "name": "stdout",
     "output_type": "stream",
     "text": [
      "Length of word_files:  10\n",
      "['datasets\\\\A\\\\A39.wav', 'datasets\\\\B\\\\B39.wav', 'datasets\\\\C\\\\C39.wav', 'datasets\\\\D\\\\D39.wav', 'datasets\\\\E\\\\E39.wav', 'datasets\\\\F\\\\F39.wav', 'datasets\\\\H\\\\H39.wav', 'datasets\\\\L\\\\L39.wav', 'datasets\\\\P\\\\P39.wav', 'datasets\\\\T\\\\T39.wav']\n"
     ]
    },
    {
     "name": "stderr",
     "output_type": "stream",
     "text": [
      "Đang copy đến đường dẫn: 100%|██████████| 10/10 [00:00<00:00, 123.83it/s]\n"
     ]
    },
    {
     "name": "stdout",
     "output_type": "stream",
     "text": [
      "Length of word_files:  10\n",
      "['datasets\\\\A\\\\A40.wav', 'datasets\\\\B\\\\B40.wav', 'datasets\\\\C\\\\C40.wav', 'datasets\\\\D\\\\D40.wav', 'datasets\\\\E\\\\E40.wav', 'datasets\\\\F\\\\F40.wav', 'datasets\\\\H\\\\H40.wav', 'datasets\\\\L\\\\L40.wav', 'datasets\\\\P\\\\P40.wav', 'datasets\\\\T\\\\T40.wav']\n"
     ]
    },
    {
     "name": "stderr",
     "output_type": "stream",
     "text": [
      "Đang copy đến đường dẫn: 100%|██████████| 10/10 [00:00<00:00, 101.66it/s]\n"
     ]
    },
    {
     "name": "stdout",
     "output_type": "stream",
     "text": [
      "Length of word_files:  10\n",
      "['datasets\\\\A\\\\A41.wav', 'datasets\\\\B\\\\B41.wav', 'datasets\\\\C\\\\C41.wav', 'datasets\\\\D\\\\D41.wav', 'datasets\\\\E\\\\E41.wav', 'datasets\\\\F\\\\F41.wav', 'datasets\\\\H\\\\H41.wav', 'datasets\\\\L\\\\L41.wav', 'datasets\\\\P\\\\P41.wav', 'datasets\\\\T\\\\T41.wav']\n"
     ]
    },
    {
     "name": "stderr",
     "output_type": "stream",
     "text": [
      "Đang copy đến đường dẫn: 100%|██████████| 10/10 [00:00<00:00, 74.11it/s]\n"
     ]
    },
    {
     "name": "stdout",
     "output_type": "stream",
     "text": [
      "Length of word_files:  10\n",
      "['datasets\\\\A\\\\A42.wav', 'datasets\\\\B\\\\B42.wav', 'datasets\\\\C\\\\C42.wav', 'datasets\\\\D\\\\D42.wav', 'datasets\\\\E\\\\E42.wav', 'datasets\\\\F\\\\F42.wav', 'datasets\\\\H\\\\H42.wav', 'datasets\\\\L\\\\L42.wav', 'datasets\\\\P\\\\P42.wav', 'datasets\\\\T\\\\T42.wav']\n"
     ]
    },
    {
     "name": "stderr",
     "output_type": "stream",
     "text": [
      "Đang copy đến đường dẫn: 100%|██████████| 10/10 [00:00<00:00, 86.24it/s]\n"
     ]
    },
    {
     "name": "stdout",
     "output_type": "stream",
     "text": [
      "Length of word_files:  10\n",
      "['datasets\\\\A\\\\A43.wav', 'datasets\\\\B\\\\B43.wav', 'datasets\\\\C\\\\C43.wav', 'datasets\\\\D\\\\D43.wav', 'datasets\\\\E\\\\E43.wav', 'datasets\\\\F\\\\F43.wav', 'datasets\\\\H\\\\H43.wav', 'datasets\\\\L\\\\L43.wav', 'datasets\\\\P\\\\P43.wav', 'datasets\\\\T\\\\T43.wav']\n"
     ]
    },
    {
     "name": "stderr",
     "output_type": "stream",
     "text": [
      "Đang copy đến đường dẫn: 100%|██████████| 10/10 [00:00<00:00, 117.23it/s]\n"
     ]
    },
    {
     "name": "stdout",
     "output_type": "stream",
     "text": [
      "Length of word_files:  10\n",
      "['datasets\\\\A\\\\A44.wav', 'datasets\\\\B\\\\B44.wav', 'datasets\\\\C\\\\C44.wav', 'datasets\\\\D\\\\D44.wav', 'datasets\\\\E\\\\E44.wav', 'datasets\\\\F\\\\F44.wav', 'datasets\\\\H\\\\H44.wav', 'datasets\\\\L\\\\L44.wav', 'datasets\\\\P\\\\P44.wav', 'datasets\\\\T\\\\T44.wav']\n"
     ]
    },
    {
     "name": "stderr",
     "output_type": "stream",
     "text": [
      "Đang copy đến đường dẫn: 100%|██████████| 10/10 [00:00<00:00, 119.50it/s]\n"
     ]
    },
    {
     "name": "stdout",
     "output_type": "stream",
     "text": [
      "Length of word_files:  10\n",
      "['datasets\\\\A\\\\A45.wav', 'datasets\\\\B\\\\B45.wav', 'datasets\\\\C\\\\C45.wav', 'datasets\\\\D\\\\D45.wav', 'datasets\\\\E\\\\E45.wav', 'datasets\\\\F\\\\F45.wav', 'datasets\\\\H\\\\H45.wav', 'datasets\\\\L\\\\L45.wav', 'datasets\\\\P\\\\P45.wav', 'datasets\\\\T\\\\T45.wav']\n"
     ]
    },
    {
     "name": "stderr",
     "output_type": "stream",
     "text": [
      "Đang copy đến đường dẫn: 100%|██████████| 10/10 [00:00<00:00, 62.89it/s]\n"
     ]
    },
    {
     "name": "stdout",
     "output_type": "stream",
     "text": [
      "Length of word_files:  10\n",
      "['datasets\\\\A\\\\A46.wav', 'datasets\\\\B\\\\B46.wav', 'datasets\\\\C\\\\C46.wav', 'datasets\\\\D\\\\D46.wav', 'datasets\\\\E\\\\E46.wav', 'datasets\\\\F\\\\F46.wav', 'datasets\\\\H\\\\H46.wav', 'datasets\\\\L\\\\L46.wav', 'datasets\\\\P\\\\P46.wav', 'datasets\\\\T\\\\T46.wav']\n"
     ]
    },
    {
     "name": "stderr",
     "output_type": "stream",
     "text": [
      "Đang copy đến đường dẫn: 100%|██████████| 10/10 [00:00<00:00, 87.81it/s]\n"
     ]
    },
    {
     "name": "stdout",
     "output_type": "stream",
     "text": [
      "Length of word_files:  10\n",
      "['datasets\\\\A\\\\A47.wav', 'datasets\\\\B\\\\B47.wav', 'datasets\\\\C\\\\C47.wav', 'datasets\\\\D\\\\D47.wav', 'datasets\\\\E\\\\E47.wav', 'datasets\\\\F\\\\F47.wav', 'datasets\\\\H\\\\H47.wav', 'datasets\\\\L\\\\L47.wav', 'datasets\\\\P\\\\P47.wav', 'datasets\\\\T\\\\T47.wav']\n"
     ]
    },
    {
     "name": "stderr",
     "output_type": "stream",
     "text": [
      "Đang copy đến đường dẫn: 100%|██████████| 10/10 [00:00<00:00, 94.89it/s]\n"
     ]
    },
    {
     "name": "stdout",
     "output_type": "stream",
     "text": [
      "Length of word_files:  10\n",
      "['datasets\\\\A\\\\A48.wav', 'datasets\\\\B\\\\B48.wav', 'datasets\\\\C\\\\C48.wav', 'datasets\\\\D\\\\D48.wav', 'datasets\\\\E\\\\E48.wav', 'datasets\\\\F\\\\F48.wav', 'datasets\\\\H\\\\H48.wav', 'datasets\\\\L\\\\L48.wav', 'datasets\\\\P\\\\P48.wav', 'datasets\\\\T\\\\T48.wav']\n"
     ]
    },
    {
     "name": "stderr",
     "output_type": "stream",
     "text": [
      "Đang copy đến đường dẫn: 100%|██████████| 10/10 [00:00<00:00, 114.13it/s]\n"
     ]
    },
    {
     "name": "stdout",
     "output_type": "stream",
     "text": [
      "Length of word_files:  10\n",
      "['datasets\\\\A\\\\A49.wav', 'datasets\\\\B\\\\B49.wav', 'datasets\\\\C\\\\C49.wav', 'datasets\\\\D\\\\D49.wav', 'datasets\\\\E\\\\E49.wav', 'datasets\\\\F\\\\F49.wav', 'datasets\\\\H\\\\H49.wav', 'datasets\\\\L\\\\L49.wav', 'datasets\\\\P\\\\P49.wav', 'datasets\\\\T\\\\T49.wav']\n"
     ]
    },
    {
     "name": "stderr",
     "output_type": "stream",
     "text": [
      "Đang copy đến đường dẫn: 100%|██████████| 10/10 [00:00<00:00, 115.23it/s]\n"
     ]
    },
    {
     "name": "stdout",
     "output_type": "stream",
     "text": [
      "Length of word_files:  10\n",
      "['datasets\\\\A\\\\A50.wav', 'datasets\\\\B\\\\B50.wav', 'datasets\\\\C\\\\C50.wav', 'datasets\\\\D\\\\D50.wav', 'datasets\\\\E\\\\E50.wav', 'datasets\\\\F\\\\F50.wav', 'datasets\\\\H\\\\H50.wav', 'datasets\\\\L\\\\L50.wav', 'datasets\\\\P\\\\P50.wav', 'datasets\\\\T\\\\T50.wav']\n"
     ]
    },
    {
     "name": "stderr",
     "output_type": "stream",
     "text": [
      "Đang copy đến đường dẫn: 100%|██████████| 10/10 [00:00<00:00, 125.30it/s]\n"
     ]
    },
    {
     "name": "stdout",
     "output_type": "stream",
     "text": [
      "Length of word_files:  10\n",
      "['datasets\\\\A\\\\A51.wav', 'datasets\\\\B\\\\B51.wav', 'datasets\\\\C\\\\C51.wav', 'datasets\\\\D\\\\D51.wav', 'datasets\\\\E\\\\E51.wav', 'datasets\\\\F\\\\F51.wav', 'datasets\\\\H\\\\H51.wav', 'datasets\\\\L\\\\L51.wav', 'datasets\\\\P\\\\P51.wav', 'datasets\\\\T\\\\T51.wav']\n"
     ]
    },
    {
     "name": "stderr",
     "output_type": "stream",
     "text": [
      "Đang copy đến đường dẫn: 100%|██████████| 10/10 [00:00<00:00, 126.28it/s]\n"
     ]
    },
    {
     "name": "stdout",
     "output_type": "stream",
     "text": [
      "Length of word_files:  10\n",
      "['datasets\\\\A\\\\A52.wav', 'datasets\\\\B\\\\B52.wav', 'datasets\\\\C\\\\C52.wav', 'datasets\\\\D\\\\D52.wav', 'datasets\\\\E\\\\E52.wav', 'datasets\\\\F\\\\F52.wav', 'datasets\\\\H\\\\H52.wav', 'datasets\\\\L\\\\L52.wav', 'datasets\\\\P\\\\P52.wav', 'datasets\\\\T\\\\T52.wav']\n"
     ]
    },
    {
     "name": "stderr",
     "output_type": "stream",
     "text": [
      "Đang copy đến đường dẫn: 100%|██████████| 10/10 [00:00<00:00, 123.03it/s]\n"
     ]
    }
   ],
   "source": [
    "for word in get_all_words():\n",
    "    split_data(str(get_id_by_word(word)).zfill(2), word=word)"
   ]
  }
 ],
 "metadata": {
  "kernelspec": {
   "display_name": ".venv",
   "language": "python",
   "name": "python3"
  },
  "language_info": {
   "codemirror_mode": {
    "name": "ipython",
    "version": 3
   },
   "file_extension": ".py",
   "mimetype": "text/x-python",
   "name": "python",
   "nbconvert_exporter": "python",
   "pygments_lexer": "ipython3",
   "version": "3.11.3"
  }
 },
 "nbformat": 4,
 "nbformat_minor": 2
}
