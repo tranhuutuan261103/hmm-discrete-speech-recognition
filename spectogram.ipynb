{
 "cells": [
  {
   "cell_type": "code",
   "execution_count": 66,
   "metadata": {},
   "outputs": [],
   "source": [
    "import os\n",
    "import numpy as np\n",
    "import matplotlib.pyplot as plt\n",
    "import librosa\n",
    "from utils import get_word_by_id, get_id_by_word\n",
    "from tqdm import tqdm"
   ]
  },
  {
   "cell_type": "code",
   "execution_count": 67,
   "metadata": {},
   "outputs": [],
   "source": [
    "# Function to plot spectrogram\n",
    "def plot_spectrogram(y, sr, n_fft: int = 2048, hop_length: int = 512, file: str = '', save: bool = False):\n",
    "    D = np.abs(librosa.stft(y, n_fft=n_fft, hop_length=hop_length))\n",
    "    librosa.display.specshow(librosa.amplitude_to_db(D, ref=np.max), sr=sr, hop_length=hop_length, x_axis='time', y_axis='log')\n",
    "    plt.colorbar(format='%+2.0f dB')\n",
    "    plt.title('Spectrogram of the audio: ' + file)\n",
    "\n",
    "    if save:\n",
    "        output_path = 'temp/spectogram'\n",
    "        if not os.path.exists(output_path):\n",
    "            os.makedirs(output_path)\n",
    "        plt.savefig(f'{output_path}/{file}.png')\n",
    "        plt.close()\n",
    "    else:\n",
    "        plt.show()\n"
   ]
  },
  {
   "cell_type": "code",
   "execution_count": 68,
   "metadata": {},
   "outputs": [],
   "source": [
    "# Process all .wav files in the directory with a progress bar\n",
    "# audio_folder = 'datasets/A/'\n",
    "# wav_files = [file for file in os.listdir(audio_folder) if file.endswith('.wav')]\n",
    "\n",
    "# for file in tqdm(wav_files, desc=\"Processing audio files\"):\n",
    "#     y, sr = librosa.load(os.path.join(audio_folder, file))\n",
    "#     plot_spectrogram(y, sr, file=file, save=True)"
   ]
  },
  {
   "cell_type": "code",
   "execution_count": 69,
   "metadata": {},
   "outputs": [],
   "source": [
    "def plot_spectrogram_for_word(word: str, n_fft: int = 2048, hop_length: int = 512):\n",
    "    audio_folder = 'datasets'\n",
    "\n",
    "    # Get all subfolders inside 'datasets'\n",
    "    sub_folders = [os.path.join(audio_folder, sub_folder) for sub_folder in os.listdir(audio_folder)]\n",
    "\n",
    "    # Iterate through all subfolders and collect '.wav' files\n",
    "    wav_files = []\n",
    "    for sub_folder in sub_folders:\n",
    "        if os.path.isdir(sub_folder):  # Check if it's a folder\n",
    "            wav_files.extend(\n",
    "                [os.path.join(sub_folder, file) for file in os.listdir(sub_folder) if file.endswith('.wav')]\n",
    "            )\n",
    "\n",
    "    # Filter files based on the word (if desired)\n",
    "    word_files = [file for file in wav_files if word in os.path.basename(file)]\n",
    "    \n",
    "    for file in tqdm(word_files, desc=f\"Processing audio files for word '{word}'\"):\n",
    "        y, sr = librosa.load(file)\n",
    "        plot_spectrogram(y, sr, file=os.path.basename(file), save=True)\n",
    "    "
   ]
  },
  {
   "cell_type": "code",
   "execution_count": 70,
   "metadata": {},
   "outputs": [],
   "source": [
    "word = \"khong\""
   ]
  },
  {
   "cell_type": "code",
   "execution_count": 71,
   "metadata": {},
   "outputs": [
    {
     "name": "stderr",
     "output_type": "stream",
     "text": [
      "Processing audio files for word '35': 100%|██████████| 10/10 [00:02<00:00,  4.44it/s]\n"
     ]
    }
   ],
   "source": [
    "plot_spectrogram_for_word(str(get_id_by_word(word)).zfill(2))"
   ]
  }
 ],
 "metadata": {
  "kernelspec": {
   "display_name": ".venv",
   "language": "python",
   "name": "python3"
  },
  "language_info": {
   "codemirror_mode": {
    "name": "ipython",
    "version": 3
   },
   "file_extension": ".py",
   "mimetype": "text/x-python",
   "name": "python",
   "nbconvert_exporter": "python",
   "pygments_lexer": "ipython3",
   "version": "3.11.3"
  }
 },
 "nbformat": 4,
 "nbformat_minor": 2
}
